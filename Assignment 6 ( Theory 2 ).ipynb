{
 "cells": [
  {
   "cell_type": "code",
   "execution_count": 1,
   "id": "32dfb5cc",
   "metadata": {},
   "outputs": [
    {
     "name": "stdout",
     "output_type": "stream",
     "text": [
      "Enter your Marks here: 98\n",
      "Grade: A\n"
     ]
    }
   ],
   "source": [
    "# Q-1 Write a programe to accept percentage from the user and display the grade according to the following criteria:\n",
    "# Marks             Grade\n",
    "# > 90               A\n",
    "# >80 and <=90       B\n",
    "# >=60 and <=80      C\n",
    "# below 60           D\n",
    "\n",
    "# Ans.\n",
    "\n",
    "while True:\n",
    "    marks = int(input(\"Enter your Marks here: \"))\n",
    "    if marks >= 0 and marks <= 100:\n",
    "        if ( marks > 90 ):\n",
    "            print(\"Grade: A\")\n",
    "        elif ( marks > 80 ) and ( marks <= 90 ):\n",
    "            print(\"Grade: B\")\n",
    "        elif ( marks >= 60 ) and ( marks <= 80 ):\n",
    "            print(\"Grade: C\")\n",
    "        else:\n",
    "            print(\"Grade: D\")\n",
    "        break"
   ]
  },
  {
   "cell_type": "code",
   "execution_count": 2,
   "id": "d8eefa83",
   "metadata": {},
   "outputs": [
    {
     "name": "stdout",
     "output_type": "stream",
     "text": [
      "Enter your tax percentage here: 976865475756\n",
      "146529821363.4\n"
     ]
    }
   ],
   "source": [
    "# Q-2 Write a program to accept percentage from the user and display the road tax to be paid according to the following criteria\n",
    "# Tax                 Cost Price (in Rs)\n",
    "# 15%                     > 1,00,000\n",
    "# 10%                     > 50,000 and <= 1,00,000\n",
    "# 5%                      <= 50,000\n",
    "\n",
    "# Ans. \n",
    "while True:\n",
    "    tax_pay = int(input(\"Enter your tax percentage here: \"))\n",
    "    if tax_pay >= 0:\n",
    "        if tax_pay > 100000:\n",
    "            print(tax_pay*(15)/100)\n",
    "    \n",
    "        elif tax_pay > 50000 and tax_pay <= 100000:\n",
    "            print(tax_pay*(10)/100)\n",
    "        \n",
    "        else:\n",
    "            print(tax_pay*(5)/100)\n",
    "        break"
   ]
  },
  {
   "cell_type": "code",
   "execution_count": 3,
   "id": "370599f5",
   "metadata": {},
   "outputs": [
    {
     "name": "stdout",
     "output_type": "stream",
     "text": [
      "Enter your City here: delhi\n",
      "Red Fort\n"
     ]
    }
   ],
   "source": [
    "# Q-3 Accept any city from the user and display monuments of that city.\n",
    "# City                    Monuments\n",
    "# Delhi                    Red Fort\n",
    "# Agra                     Taj Mahal\n",
    "# Jaipur                   Jal Mahal\n",
    "\n",
    "# Ans.\n",
    "while True:\n",
    "    city = input(\"Enter your City here: \")\n",
    "    if city.lower() == \"delhi\":\n",
    "        print(\"Red Fort\")\n",
    "        break\n",
    "    elif city.lower() == \"agra\":\n",
    "        print(\"Taj Mahal\")\n",
    "        break\n",
    "    elif city.lower() == \"jaipur\":\n",
    "        print(\"Jal Mahal\")\n",
    "        break\n",
    "    else:\n",
    "        print(\"You have entered wrong city\")\n",
    "    "
   ]
  },
  {
   "cell_type": "code",
   "execution_count": 4,
   "id": "640a19e1",
   "metadata": {},
   "outputs": [
    {
     "name": "stdout",
     "output_type": "stream",
     "text": [
      "Enter your number: 324\n",
      "4\n"
     ]
    }
   ],
   "source": [
    "# Q-4 Check how many times a given number can be divided by 3 before it is less than equal to 10.\n",
    "\n",
    "# Ans.\n",
    "num = int(input(\"Enter your number: \"))\n",
    "count = 0\n",
    "while num >= 10:\n",
    "    num = num//3 \n",
    "    count += 1\n",
    "print(count)"
   ]
  },
  {
   "cell_type": "code",
   "execution_count": 5,
   "id": "6cc3d18e",
   "metadata": {},
   "outputs": [
    {
     "name": "stdout",
     "output_type": "stream",
     "text": [
      "Counter is at 0\n",
      "Counter is at 1\n",
      "Counter is at 2\n",
      "Counter is at 3\n",
      "Counter is at 4\n"
     ]
    }
   ],
   "source": [
    "# Q-5 Why and When to Use While loop in Python give a detailed with example.\n",
    "\n",
    "# Ans. Why and When to Use a While Loop in Python\n",
    "#      A while loop in Python is used when you want to repeatedly execute a block of code as long as a specific condition is\n",
    "#      True. It’s particularly useful in situations where the number of iterations isn't known beforehand, unlike a for loop,\n",
    "#      which is typically used when the number of iterations is known.\n",
    "\n",
    "# Why Use a While Loop?\n",
    "# Indeterminate Iterations: If you don't know in advance how many times you'll need to execute the loop, the while loop is ideal\n",
    "# The loop continues running until a certain condition changes, often based on user input or some dynamic condition within the\n",
    "# program.\n",
    "\n",
    "# Conditional Repetition: A while loop is perfect for situations where you want to keep repeating an action until something\n",
    "# specific happens, such as waiting for user input or processing items until a certain condition is met.\n",
    "\n",
    "# Event-driven Programming: while loops are often used in event-driven programming, where the loop continues to run until an\n",
    "# event occurs that changes the loop condition to False.\n",
    "\n",
    "# When to Use a While Loop?\n",
    "# When you need to wait for a specific condition: For instance, if you're building a game and want to continue playing until \n",
    "# the user decides to quit.\n",
    "\n",
    "# When dealing with user input: You might want to keep asking the user for valid input until they provide it.\n",
    "\n",
    "# Infinite Loops: When the loop should keep running indefinitely until some internal logic breaks out of it. This is useful\n",
    "# for servers, games, and real-time systems.\n",
    "\n",
    "# Example 1: Basic While Loop\n",
    "counter = 0\n",
    "\n",
    "while counter < 5:\n",
    "    print(f\"Counter is at {counter}\")\n",
    "    counter += 1\n"
   ]
  },
  {
   "cell_type": "code",
   "execution_count": null,
   "id": "466f0ef5",
   "metadata": {},
   "outputs": [],
   "source": [
    "# Q-6 Use nested while loop to print 3 different pattern.\n",
    "\n",
    "# Ans.\n",
    "# Ex -1\n",
    "pattern = int(input(\"Enter your number: \"))\n",
    "i = 1\n",
    "while i <= pattern:\n",
    "    j = 1\n",
    "    while j <=i:\n",
    "        print('*', end = \" \")\n",
    "        j += 1\n",
    "    print()\n",
    "    i+=1\n",
    "    \n"
   ]
  },
  {
   "cell_type": "code",
   "execution_count": null,
   "id": "6ff13b48",
   "metadata": {},
   "outputs": [],
   "source": [
    "# Ex -2\n",
    "pattern1 = int(input(\"Enter your number here: \"))\n",
    "i = pattern1\n",
    "while i >= 1:\n",
    "    j = i\n",
    "    while j >= 1:\n",
    "        print(\"*\", end=\" \")\n",
    "        j -= 1\n",
    "    print()\n",
    "    i -=1"
   ]
  },
  {
   "cell_type": "code",
   "execution_count": null,
   "id": "a616cac9",
   "metadata": {},
   "outputs": [],
   "source": [
    "# Ex -3\n",
    "pattern = int(input(\"Enter your number: \"))\n",
    "pattern = int(input(\"Enter your number: \"))\n",
    "i = 1\n",
    "while i <= pattern:\n",
    "    # printing leading space \n",
    "    space = pattern-i\n",
    "    while space > 0:\n",
    "        print(\" \", end = \" \")\n",
    "        space -= 1\n",
    "    # printing stars\n",
    "    j = 1\n",
    "    while j <= (2*i-1):\n",
    "        print(\"*\", end = \" \")\n",
    "        j += 1\n",
    "    print()\n",
    "    i += 1"
   ]
  },
  {
   "cell_type": "code",
   "execution_count": null,
   "id": "f876a304",
   "metadata": {},
   "outputs": [],
   "source": [
    "# Q-7 Reverse a while loop to display numbers from 10 t0 1.\n",
    "\n",
    "# Ans.\n",
    "num = int(input(\"Enter a number upto 10: \"))\n",
    "while num > 0:\n",
    "    print(num)\n",
    "    num -= 1"
   ]
  },
  {
   "cell_type": "code",
   "execution_count": null,
   "id": "60eac61d",
   "metadata": {},
   "outputs": [],
   "source": []
  },
  {
   "cell_type": "code",
   "execution_count": null,
   "id": "f12ebe53",
   "metadata": {},
   "outputs": [],
   "source": []
  }
 ],
 "metadata": {
  "kernelspec": {
   "display_name": "Python 3 (ipykernel)",
   "language": "python",
   "name": "python3"
  },
  "language_info": {
   "codemirror_mode": {
    "name": "ipython",
    "version": 3
   },
   "file_extension": ".py",
   "mimetype": "text/x-python",
   "name": "python",
   "nbconvert_exporter": "python",
   "pygments_lexer": "ipython3",
   "version": "3.10.9"
  }
 },
 "nbformat": 4,
 "nbformat_minor": 5
}
